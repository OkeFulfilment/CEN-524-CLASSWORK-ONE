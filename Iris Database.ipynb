{
 "cells": [
  {
   "cell_type": "code",
   "execution_count": 1,
   "id": "2706e9b8-b469-4add-ad61-4d74ab6efa47",
   "metadata": {},
   "outputs": [
    {
     "name": "stdout",
     "output_type": "stream",
     "text": [
      "Accuracy: 0.896551724137931\n",
      "Perceptron Confusion Matrix:\n",
      " [[ 9  0  0]\n",
      " [ 1  6  2]\n",
      " [ 0  0 11]]\n"
     ]
    }
   ],
   "source": [
    "#Import required libraries\n",
    "from sklearn.datasets import load_iris\n",
    "from sklearn.linear_model import Perceptron\n",
    "from sklearn.model_selection import train_test_split\n",
    "from sklearn.metrics import accuracy_score\n",
    "from sklearn.metrics import confusion_matrix\n",
    "import pandas as pd\n",
    "#Load the Iris dataset\n",
    "iris = load_iris()\n",
    "#View the iris data keys\n",
    "iris.keys()\n",
    "#it is a key of dictionary iris\n",
    "iris.target_names\n",
    "##Convert data and target into a data frame.\n",
    "# 100 + MatNo mod 50\n",
    "dataCount = 100 + (45 % 50)\n",
    "#Extract the First Features\n",
    "X = pd.DataFrame(data = iris.data[:dataCount,:], columns = iris.feature_names)\n",
    "X.head(dataCount) #Inspect the features\n",
    "#Target\n",
    "y = pd.DataFrame(data=iris.target[:dataCount], columns = ['irisType'])\n",
    "y.head(dataCount)\n",
    "# Split the dataset into training and testing sets\n",
    "X_train, X_test, y_train, y_test = train_test_split(X, y, test_size=0.2, random_state=42)\n",
    "# Create a Perceptron classifier\n",
    "mdlPercept = Perceptron()\n",
    "# Train the classifier\n",
    "mdlPercept.fit(X_train, y_train.values.ravel()) # Convert y_train to 1D array\n",
    "# Make predictions on the test set\n",
    "y_pred = mdlPercept.predict(X_test)\n",
    "# Calculate accuracy of the classifier\n",
    "accuracy = accuracy_score(y_test, y_pred)\n",
    "print(\"Accuracy:\", accuracy)\n",
    "#Generate the Confusion Matrix\n",
    "print(\"Perceptron Confusion Matrix:\\n\",confusion_matrix(y_test, y_pred))"
   ]
  },
  {
   "cell_type": "code",
   "execution_count": null,
   "id": "158e530a-dc88-4626-bfa2-42cf39abba1e",
   "metadata": {},
   "outputs": [],
   "source": []
  }
 ],
 "metadata": {
  "kernelspec": {
   "display_name": "Python 3 (ipykernel)",
   "language": "python",
   "name": "python3"
  },
  "language_info": {
   "codemirror_mode": {
    "name": "ipython",
    "version": 3
   },
   "file_extension": ".py",
   "mimetype": "text/x-python",
   "name": "python",
   "nbconvert_exporter": "python",
   "pygments_lexer": "ipython3",
   "version": "3.11.5"
  }
 },
 "nbformat": 4,
 "nbformat_minor": 5
}
